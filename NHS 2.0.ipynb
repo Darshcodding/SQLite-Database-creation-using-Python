{
 "cells": [
  {
   "cell_type": "code",
   "execution_count": 9,
   "id": "211ca7ae-3fd2-4d97-9733-73afec6c71b4",
   "metadata": {},
   "outputs": [],
   "source": [
    "import numpy as np\n",
    "import pandas as pd\n",
    "from faker import Faker\n",
    "\n",
    "# Faker instance\n",
    "fake = Faker(\"en_GB\")"
   ]
  },
  {
   "cell_type": "code",
   "execution_count": 11,
   "id": "4d5744e2-31e8-4da0-9fc2-1830d6d0c3f8",
   "metadata": {},
   "outputs": [],
   "source": [
    "#Number of rows per table\n",
    "n_doctors = 1000\n",
    "n_patients = 1000\n",
    "n_visits = 1000"
   ]
  },
  {
   "cell_type": "code",
   "execution_count": 27,
   "id": "a415b512-c771-481c-9218-e9979cc43c54",
   "metadata": {},
   "outputs": [
    {
     "name": "stdout",
     "output_type": "stream",
     "text": [
      "Doctors table saved to 'doctors_table.csv'.\n"
     ]
    }
   ],
   "source": [
    "# Generating Doctors Table\n",
    "doctor_ids = np.arange(1, n_doctors + 1)\n",
    "doctor_names = [fake.name() for _ in range(n_doctors)]\n",
    "specialties = np.random.choice(\n",
    "    [\"Cardiology\", \"Dermatology\", \"Neurology\", \"Pediatrics\", \"Radiology\", None],\n",
    "    n_doctors,\n",
    "    p=[0.2, 0.2, 0.2, 0.2, 0.1, 0.1],  # 10% of rows will have NULL in Specialty\n",
    ")\n",
    "experience_levels = np.random.randint(1, 31, n_doctors)\n",
    "ages = np.random.randint(30, 65, n_doctors)\n",
    "salaries = np.random.uniform(50000, 200000, n_doctors).round(2)\n",
    "cities = np.random.choice([\"London\", \"Manchester\", \"Birmingham\", \"Leeds\", \"Glasgow\"], n_doctors)\n",
    "phone_numbers = [f\"+44 {np.random.randint(7000, 7999)} {np.random.randint(100000, 999999)}\" for _ in range(n_doctors)]\n",
    "\n",
    "doctors_df = pd.DataFrame({\n",
    "    \"Doctor_ID\": doctor_ids,\n",
    "    \"Name\": doctor_names,\n",
    "    \"Specialty\": specialties,\n",
    "    \"Experience_Level\": experience_levels,\n",
    "    \"Age\": ages,\n",
    "    \"Salary\": salaries,\n",
    "    \"City\": cities,\n",
    "    \"Phone_Number\": phone_numbers,\n",
    "})\n",
    "\n",
    "# Saving Doctors Table to CSV\n",
    "doctors_df.to_csv(\"doctors_table.csv\", index=False)\n",
    "print(\"Doctors table saved to 'doctors_table.csv'.\")"
   ]
  },
  {
   "cell_type": "code",
   "execution_count": 28,
   "id": "90145e63-22de-4288-8253-33454b7d516a",
   "metadata": {},
   "outputs": [
    {
     "name": "stdout",
     "output_type": "stream",
     "text": [
      "Patients table saved to 'patients_table.csv'.\n"
     ]
    }
   ],
   "source": [
    "# Generating Patients Table\n",
    "patient_ids = np.arange(1, n_patients + 1)\n",
    "patient_names = [fake.name() for _ in range(n_patients)]\n",
    "ages = np.random.randint(1, 90, n_patients)\n",
    "genders = np.random.choice([\"Male\", \"Female\", \"Other\"], n_patients, p=[0.48, 0.48, 0.04])\n",
    "blood_types = np.random.choice([\"A\", \"B\", \"AB\", \"O\"], n_patients)\n",
    "heights = np.random.uniform(140, 200, n_patients).round(2)\n",
    "weights = np.random.uniform(50, 120, n_patients).round(2)\n",
    "assigned_doctors = np.random.choice(doctor_ids, n_patients)\n",
    "last_checkup_dates = np.random.choice(\n",
    "    [fake.date_between(start_date=\"-5y\", end_date=\"today\"), None],\n",
    "    n_patients,\n",
    "    p=[0.5, 0.5],  # 50% of rows will have NULL in Last_Checkup_Date\n",
    ")\n",
    "smoking_status = np.random.choice(\n",
    "    [\"Smoker\", \"Non-Smoker\", None],\n",
    "    n_patients,\n",
    "    p=[0.3, 0.4, 0.3],  # 30% of rows will have NULL in Smoking_Status\n",
    ")\n",
    "\n",
    "patients_df = pd.DataFrame({\n",
    "    \"Patient_ID\": patient_ids,\n",
    "    \"Name\": patient_names,\n",
    "    \"Age\": ages,\n",
    "    \"Gender\": genders,\n",
    "    \"Blood_Type\": blood_types,\n",
    "    \"Height\": heights,\n",
    "    \"Weight\": weights,\n",
    "    \"Doctor_ID\": assigned_doctors,\n",
    "    \"Last_Checkup_Date\": last_checkup_dates,\n",
    "    \"Smoking_Status\": smoking_status,\n",
    "})\n",
    "\n",
    "# Saving Patients Table to CSV\n",
    "patients_df.to_csv(\"patients_table.csv\", index=False)\n",
    "print(\"Patients table saved to 'patients_table.csv'.\")"
   ]
  },
  {
   "cell_type": "code",
   "execution_count": 30,
   "id": "9ba69bd7-09f6-47d8-84c0-c1e2332d2bbf",
   "metadata": {},
   "outputs": [
    {
     "name": "stdout",
     "output_type": "stream",
     "text": [
      "Visits table saved to 'visits_table.csv'.\n"
     ]
    }
   ],
   "source": [
    "# Generating Visits Table\n",
    "visit_ids = np.arange(1, n_visits + 1)\n",
    "visit_patient_ids = np.random.choice(patient_ids, n_visits)\n",
    "visit_doctor_ids = np.random.choice(doctor_ids, n_visits)\n",
    "visit_dates = pd.date_range(start=\"2022-01-01\", end=\"2023-12-31\", periods=n_visits).strftime(\"%Y-%m-%d\")\n",
    "visit_types = np.random.choice([\"Checkup\", \"Emergency\", \"Follow-up\", \"Surgery\"], n_visits)\n",
    "diagnoses = np.random.choice(\n",
    "    [\"Flu\", \"Fracture\", \"Diabetes\", \"Hypertension\", \"Asthma\", None],\n",
    "    n_visits,\n",
    "    p=[0.2, 0.2, 0.2, 0.2, 0.1, 0.1],  # 10% of rows will have NULL in Diagnosis\n",
    ")\n",
    "severity_levels = np.random.randint(1, 6, n_visits)\n",
    "costs = np.random.uniform(50, 5000, n_visits).round(2)\n",
    "\n",
    "visits_df = pd.DataFrame({\n",
    "    \"Visit_ID\": visit_ids,\n",
    "    \"Patient_ID\": visit_patient_ids,\n",
    "    \"Doctor_ID\": visit_doctor_ids,\n",
    "    \"Visit_Date\": visit_dates,\n",
    "    \"Visit_Type\": visit_types,\n",
    "    \"Diagnosis\": diagnoses,\n",
    "    \"Severity_Level\": severity_levels,\n",
    "    \"Cost\": costs,\n",
    "})\n",
    "\n",
    "# Saving Visits Table to CSV\n",
    "visits_df.to_csv(\"visits_table.csv\", index=False)\n",
    "print(\"Visits table saved to 'visits_table.csv'.\")\n"
   ]
  },
  {
   "cell_type": "code",
   "execution_count": null,
   "id": "12f18dca-b69f-4714-b191-f6f347aa8575",
   "metadata": {},
   "outputs": [],
   "source": []
  },
  {
   "cell_type": "code",
   "execution_count": null,
   "id": "cdb3c283-5fa4-4a9a-85e0-449fa962d26c",
   "metadata": {},
   "outputs": [],
   "source": []
  },
  {
   "cell_type": "code",
   "execution_count": null,
   "id": "84824fd1-69dd-428c-b6f9-39853f963633",
   "metadata": {},
   "outputs": [],
   "source": []
  }
 ],
 "metadata": {
  "kernelspec": {
   "display_name": "Python 3 (ipykernel)",
   "language": "python",
   "name": "python3"
  },
  "language_info": {
   "codemirror_mode": {
    "name": "ipython",
    "version": 3
   },
   "file_extension": ".py",
   "mimetype": "text/x-python",
   "name": "python",
   "nbconvert_exporter": "python",
   "pygments_lexer": "ipython3",
   "version": "3.12.7"
  }
 },
 "nbformat": 4,
 "nbformat_minor": 5
}
